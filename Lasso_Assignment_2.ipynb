{
 "cells": [
  {
   "cell_type": "markdown",
   "id": "2e7c3bb9",
   "metadata": {},
   "source": [
    "<h2>Task 1</h2><br>\n",
    "Importing the diabetes data set from the sk learn library and inspecting its sample size and sample."
   ]
  },
  {
   "cell_type": "code",
   "execution_count": 1,
   "id": "6897bc59",
   "metadata": {},
   "outputs": [
    {
     "name": "stdout",
     "output_type": "stream",
     "text": [
      "(442, 10)\n"
     ]
    }
   ],
   "source": [
    "from sklearn.datasets import load_diabetes\n",
    "sk_diabetes_data = load_diabetes()\n",
    "print(sk_diabetes_data['data'].shape)"
   ]
  },
  {
   "cell_type": "markdown",
   "id": "1a85ff8b",
   "metadata": {},
   "source": [
    "<h2>Task 2</h2><br>\n",
    "Splitting the dataset into training and testing splits."
   ]
  },
  {
   "cell_type": "code",
   "execution_count": 2,
   "id": "4fbe6461",
   "metadata": {},
   "outputs": [
    {
     "name": "stdout",
     "output_type": "stream",
     "text": [
      "[[-0.05273755  0.05068012  0.09834182 ...  0.1081111   0.08449528\n",
      "   0.04034337]\n",
      " [ 0.01991321 -0.04464164 -0.05794093 ... -0.03949338 -0.0611766\n",
      "  -0.07563562]\n",
      " [ 0.03081083 -0.04464164  0.00564998 ...  0.1081111   0.06604821\n",
      "   0.01963284]\n",
      " ...\n",
      " [-0.04910502 -0.04464164 -0.06440781 ... -0.04724262 -0.03324879\n",
      "  -0.05492509]\n",
      " [ 0.0562386   0.05068012 -0.03099563 ... -0.03949338 -0.02952762\n",
      "  -0.05906719]\n",
      " [ 0.02354575 -0.04464164 -0.03638469 ...  0.03430886 -0.03324879\n",
      "   0.06105391]]\n"
     ]
    }
   ],
   "source": [
    "from sklearn.model_selection import train_test_split\n",
    "sk_x_train, sk_x_test, sk_y_train, sk_y_test = train_test_split(sk_diabetes_data['data'], sk_diabetes_data['target'], random_state = 311)\n",
    "print(sk_x_train)"
   ]
  },
  {
   "cell_type": "code",
   "execution_count": 3,
   "id": "ab45c6ed",
   "metadata": {},
   "outputs": [
    {
     "data": {
      "text/plain": [
       "Lasso()"
      ]
     },
     "execution_count": 3,
     "metadata": {},
     "output_type": "execute_result"
    }
   ],
   "source": [
    "from sklearn import linear_model\n",
    "lasso_model = linear_model.Lasso()\n",
    "lasso_model.fit(sk_x_train, sk_y_train)"
   ]
  },
  {
   "cell_type": "markdown",
   "id": "ff519733",
   "metadata": {},
   "source": [
    "<h2>Task 3</h2><br>\n",
    "Calculating the R^2 value for the training and test sets of the Scikit learn model"
   ]
  },
  {
   "cell_type": "code",
   "execution_count": 4,
   "id": "630c31e5",
   "metadata": {},
   "outputs": [
    {
     "name": "stdout",
     "output_type": "stream",
     "text": [
      "R^2 for sk learn training : 0.3612162357088038\n",
      "R^2 for sk learn test : 0.33329688914040323\n"
     ]
    }
   ],
   "source": [
    "r2_training = lasso_model.score(sk_x_train, sk_y_train)\n",
    "print(\"R^2 for sk learn training : {}\".format(r2_training))\n",
    "r2_test = lasso_model.score(sk_x_test, sk_y_test)\n",
    "print(\"R^2 for sk learn test : {}\".format(r2_test))"
   ]
  },
  {
   "cell_type": "markdown",
   "id": "eb719152",
   "metadata": {},
   "source": [
    "Feature selection by Lasso on normalized data"
   ]
  },
  {
   "cell_type": "code",
   "execution_count": 5,
   "id": "304be398",
   "metadata": {},
   "outputs": [
    {
     "name": "stdout",
     "output_type": "stream",
     "text": [
      "[  0.          -0.         322.2832511    0.           0.\n",
      "   0.          -0.           0.         353.96813516   0.        ]\n"
     ]
    }
   ],
   "source": [
    "print(lasso_model.coef_)"
   ]
  },
  {
   "cell_type": "code",
   "execution_count": 6,
   "id": "000c6f8b",
   "metadata": {},
   "outputs": [
    {
     "name": "stdout",
     "output_type": "stream",
     "text": [
      "The following are the features selected by our Lasso Model:\n",
      "['bmi', 's5']\n"
     ]
    }
   ],
   "source": [
    "import numpy as np\n",
    "print(\"The following are the features selected by our Lasso Model:\")\n",
    "    \n",
    "filtered_features_list = [sk_diabetes_data['feature_names'][x] for x in np.nonzero(lasso_model.coef_)[0]]\n",
    "print(filtered_features_list)"
   ]
  },
  {
   "cell_type": "markdown",
   "id": "bd6df255",
   "metadata": {},
   "source": [
    "<h2>Task 4</h2><br>\n",
    "Downloading the original dataset and the loading and splitting it into training and test sets"
   ]
  },
  {
   "cell_type": "code",
   "execution_count": 7,
   "id": "e23598e1",
   "metadata": {},
   "outputs": [
    {
     "name": "stdout",
     "output_type": "stream",
     "text": [
      "[[ 59.       2.      32.1    ...   4.8598  87.     151.    ]\n",
      " [ 48.       1.      21.6    ...   3.8918  69.      75.    ]\n",
      " [ 72.       2.      30.5    ...   4.6728  85.     141.    ]\n",
      " ...\n",
      " [ 60.       2.      24.9    ...   4.1271  95.     132.    ]\n",
      " [ 36.       1.      30.     ...   5.1299  85.     220.    ]\n",
      " [ 36.       1.      19.6    ...   4.5951  92.      57.    ]]\n"
     ]
    }
   ],
   "source": [
    "diabetes_path = \"/Users/hardikrathod/Desktop/RHUL/ML/Labs and Assignments/Assignment_2/diabetes_data.txt\"\n",
    "og_diabetes_data = np.genfromtxt(diabetes_path, delimiter = \"\\t\", usecols = np.arange(11), skip_header = 1)\n",
    "og_diabetes_features = og_diabetes_data[:,:-1]\n",
    "og_diabetes_labels = og_diabetes_data[:,-1]\n",
    "print(og_diabetes_data)"
   ]
  },
  {
   "cell_type": "markdown",
   "id": "0ffc670d",
   "metadata": {},
   "source": [
    "<h2>Task 5</h2><br>\n",
    "Splitting the newly loaded dataset into training and testing splits."
   ]
  },
  {
   "cell_type": "code",
   "execution_count": 8,
   "id": "fcfe4dfc",
   "metadata": {},
   "outputs": [],
   "source": [
    "og_x_train, og_x_test, og_y_train, og_y_test = train_test_split(og_diabetes_features, og_diabetes_labels, random_state = 311)"
   ]
  },
  {
   "cell_type": "code",
   "execution_count": 9,
   "id": "1177331d",
   "metadata": {},
   "outputs": [
    {
     "name": "stdout",
     "output_type": "stream",
     "text": [
      "(331, 10)\n",
      "(331,)\n"
     ]
    }
   ],
   "source": [
    "print(og_x_train.shape)\n",
    "print(og_y_train.shape)"
   ]
  },
  {
   "cell_type": "markdown",
   "id": "7aa8321d",
   "metadata": {},
   "source": [
    "<h2>Task 6</h2><br>\n",
    "We fit a new Lasso model on the new training set and calculate the R^2 for training and test sets."
   ]
  },
  {
   "cell_type": "code",
   "execution_count": 10,
   "id": "d69073e4",
   "metadata": {},
   "outputs": [
    {
     "name": "stdout",
     "output_type": "stream",
     "text": [
      "R^2 for og diabetes training : 0.5137701693173085\n",
      "R^2 for og diabetes test : 0.49252165153314786\n"
     ]
    }
   ],
   "source": [
    "og_lasso_model = linear_model.Lasso()\n",
    "og_lasso_model.fit(og_x_train, og_y_train)\n",
    "og_r2_training = og_lasso_model.score(og_x_train, og_y_train)\n",
    "print(\"R^2 for og diabetes training : {}\".format(og_r2_training))\n",
    "og_r2_test = og_lasso_model.score(og_x_test, og_y_test)\n",
    "print(\"R^2 for og diabetes test : {}\".format(og_r2_test))"
   ]
  },
  {
   "cell_type": "markdown",
   "id": "143eff5d",
   "metadata": {},
   "source": [
    "As we can see in the above results, the R^2 for test and training for the original training data is higher than than the R^2 by 0.1<br>\n"
   ]
  },
  {
   "cell_type": "code",
   "execution_count": 11,
   "id": "dbbec733",
   "metadata": {},
   "outputs": [
    {
     "name": "stdout",
     "output_type": "stream",
     "text": [
      "[ -0.2830046  -19.4769904    5.32107676   1.13263849   0.21349807\n",
      "  -0.4707936   -0.93891354   5.69943178  33.57365174   0.33430492]\n"
     ]
    }
   ],
   "source": [
    "print(og_lasso_model.coef_)"
   ]
  },
  {
   "cell_type": "code",
   "execution_count": 12,
   "id": "7aa53ccd",
   "metadata": {},
   "outputs": [
    {
     "name": "stdout",
     "output_type": "stream",
     "text": [
      "The following are the features used by our OG Lasso Model:\n",
      "['age', 'sex', 'bmi', 'bp', 's1', 's2', 's3', 's4', 's5', 's6']\n"
     ]
    }
   ],
   "source": [
    "print(\"The following are the features used by our OG Lasso Model:\")\n",
    "    \n",
    "og_filtered_features_list = [sk_diabetes_data['feature_names'][x] for x in np.nonzero(og_lasso_model.coef_)[0]]\n",
    "print(og_filtered_features_list)"
   ]
  },
  {
   "cell_type": "markdown",
   "id": "0d710461",
   "metadata": {},
   "source": [
    "<h3>Difference between Lasso on scikit learn normalized data set and the original database</h3>\n",
    "Normalized data weights :<br>\n",
    "[  0.          -0.         322.2832511    0.           0.\n",
    "   0.          -0.           0.         353.96813516   0.        ]<br>\n",
    "1.As we observe when Lasso is applied on the normalized data set, since the values of all the features lies in the same range. Hence lasso worked better and we were able to exclude 8 features.<br>\n",
    "\n",
    "Orignal data weights :<br>\n",
    "[ -0.2830046  -19.4769904    5.32107676   1.13263849   0.21349807\n",
    "  -0.4707936   -0.93891354   5.69943178  33.57365174   0.33430492]<br>\n",
    "  \n",
    "1.When we apply lasso to the original non-normalized data set, there is a large difference between the range of values of each feature. Hence the lasso algorithm performs poorly in eliminating features and ends up considering all of them.<br>\n",
    "\n",
    "Hence we can say that the affect of lasso on normalized data sets is better than on non-normalized dataset. This is acheived by elimanting more number of features from the training et by setting their weights to 0.\n",
    "\n",
    "2. R^2 comments:<br>\n"
   ]
  },
  {
   "cell_type": "markdown",
   "id": "1c87ffcd",
   "metadata": {},
   "source": [
    "<h2>Task 7 :</h2><br>\n",
    "Preprocess the training and test sets using StandardScaler method"
   ]
  },
  {
   "cell_type": "code",
   "execution_count": 13,
   "id": "cc5c6e6e",
   "metadata": {
    "scrolled": true
   },
   "outputs": [
    {
     "name": "stdout",
     "output_type": "stream",
     "text": [
      "Before normalisation :\n",
      "[ 34.       2.      35.5    120.     233.     146.6     34.       7.\n",
      "   5.5683 101.    ]\n",
      "After normalisation :\n",
      "[-1.03463368  1.07207773  2.00436733  1.91486693  1.22863872  0.99610647\n",
      " -1.24871822  2.23108677  1.69607527  0.81849703]\n"
     ]
    }
   ],
   "source": [
    "from sklearn.preprocessing import StandardScaler\n",
    "scaler = StandardScaler()\n",
    "print(\"Before normalisation :\\n{}\".format(og_x_train[0]))\n",
    "scaler.fit(og_x_train)\n",
    "og_x_train_scaled = scaler.transform(og_x_train)\n",
    "print(\"After normalisation :\\n{}\".format(og_x_train_scaled[0]))\n",
    "\n",
    "scaler.fit(og_x_test)\n",
    "og_x_test_scaled = scaler.transform(og_x_test)"
   ]
  },
  {
   "cell_type": "code",
   "execution_count": 14,
   "id": "2a952391",
   "metadata": {},
   "outputs": [
    {
     "data": {
      "text/plain": [
       "Lasso()"
      ]
     },
     "execution_count": 14,
     "metadata": {},
     "output_type": "execute_result"
    }
   ],
   "source": [
    "og_lasso_model = linear_model.Lasso()\n",
    "og_lasso_model.fit(og_x_train_scaled, og_y_train) "
   ]
  },
  {
   "cell_type": "markdown",
   "id": "385cd87f",
   "metadata": {},
   "source": [
    "<h2>Task 8 :</h2><br>\n",
    "Calculating the R^2 value for the training and test sets of the Dataset normalized using StandardScaler method"
   ]
  },
  {
   "cell_type": "code",
   "execution_count": 15,
   "id": "42fce50b",
   "metadata": {},
   "outputs": [
    {
     "name": "stdout",
     "output_type": "stream",
     "text": [
      "R^2 for Normalized Original Dataset training : 0.5166974081783697\n",
      "R^2 for Normalized Original Dataset test : 0.49321953915434846\n"
     ]
    }
   ],
   "source": [
    "og_r2_training = og_lasso_model.score(og_x_train_scaled, og_y_train)\n",
    "print(\"R^2 for Normalized Original Dataset training : {}\".format(og_r2_training))\n",
    "og_r2_test = og_lasso_model.score(og_x_test_scaled, og_y_test)\n",
    "print(\"R^2 for Normalized Original Dataset test : {}\".format(og_r2_test))"
   ]
  },
  {
   "cell_type": "code",
   "execution_count": 16,
   "id": "412ab855",
   "metadata": {},
   "outputs": [
    {
     "name": "stdout",
     "output_type": "stream",
     "text": [
      "[ -2.68624708 -10.37439784  23.17152165  14.10617377  -8.08854928\n",
      "  -0.          -5.41897415   6.7459966   26.86686718   2.56117027]\n"
     ]
    }
   ],
   "source": [
    "print(og_lasso_model.coef_)"
   ]
  },
  {
   "cell_type": "code",
   "execution_count": 17,
   "id": "b7ecabdb",
   "metadata": {},
   "outputs": [
    {
     "name": "stdout",
     "output_type": "stream",
     "text": [
      "The following are the features selected by our Lasso Model:\n",
      "['age', 'sex', 'bmi', 'bp', 's1', 's3', 's4', 's5', 's6']\n"
     ]
    }
   ],
   "source": [
    "print(\"The following are the features selected by our Lasso Model:\")\n",
    "    \n",
    "filtered_features_list = [sk_diabetes_data['feature_names'][x] for x in np.nonzero(og_lasso_model.coef_)[0]]\n",
    "print(filtered_features_list)"
   ]
  },
  {
   "cell_type": "markdown",
   "id": "46c64734",
   "metadata": {},
   "source": [
    "Observations:\n",
    "We can observe that the result of the original data when normalized is not similar to the results for the scikit learn normalized dataset.\n",
    "\n",
    "We beleive that this difference is because of the different techniques used in each method.<br>\n",
    "\n",
    "In in scikit learn scaled dataset, each of the 10 feature variables have been <b>mean centered and scaled by the standard deviation times 'n_samples'</b> where we get smaller R^2 values\n",
    "\n",
    "In original scaled dataset, we use the StandardScalar technique.<br>\n",
    "Which is standardizing the features by <b>making the mean 0 and scaling to unit variance</b> where we get bigger R^2 values<br>\n",
    "The standard score of a sample x is calculated as:<br><br>\n",
    "\n",
    "z = (x - u) / s\n",
    "\n",
    "[StandardScalar Normalisation](https://scikit-learn.org/stable/modules/generated/sklearn.preprocessing.StandardScaler.html#sklearn-preprocessing-standardscaler)\n",
    "\n",
    "Hence, we can say that Lasso works well(does not eliminates relevant columns) when the data is centered at 0 distributed over unit variance as to when using a mean centered and scaled using std deviation."
   ]
  },
  {
   "cell_type": "markdown",
   "id": "9c36f3bc",
   "metadata": {},
   "source": [
    "<h2>Task 9</h2><br>\n",
    "Varying the parameter α in the Lasso, plot the test R2 vs the number of features used"
   ]
  },
  {
   "cell_type": "code",
   "execution_count": 18,
   "id": "8c83a968",
   "metadata": {},
   "outputs": [
    {
     "data": {
      "image/png": "[encoded data removed]",
      "text/plain": [
       "<Figure size 432x288 with 1 Axes>"
      ]
     },
     "metadata": {
      "needs_background": "light"
     },
     "output_type": "display_data"
    }
   ],
   "source": [
    "from matplotlib import pyplot as plt\n",
    "score_list=[]\n",
    "i=0.1\n",
    "feature_list=[]\n",
    "i_list = []\n",
    "while i <= 5:\n",
    "    og_lasso_model = linear_model.Lasso(alpha=i)\n",
    "    og_lasso_model.fit(og_x_train_scaled, og_y_train)\n",
    "    score_list.append(og_lasso_model.score(og_x_test_scaled, og_y_test))\n",
    "    feature_list.append(np.count_nonzero(og_lasso_model.coef_))\n",
    "    i_list.append(i)\n",
    "    i += 0.5\n",
    "    \n",
    "ax = plt.axes()\n",
    "plt.grid()\n",
    "ax.set_xlabel(\"Feature Count\")\n",
    "ax.set_ylabel(\"Test R^2\")\n",
    "ax.plot(feature_list, score_list, 'ro-');\n",
    "\n",
    "j=0\n",
    "for x,y in zip(feature_list,score_list):\n",
    "    label = \"{:.5f}, α={}\".format(y,i_list[j])\n",
    "    plt.annotate(label, (x,y), textcoords=\"offset points\", xytext=(0,1), ha='left') \n",
    "    j +=1"
   ]
  },
  {
   "cell_type": "markdown",
   "id": "01151432",
   "metadata": {},
   "source": [
    "In the above graph we can see that as the value of alpha increases from 0.01 to 2.6 with R^2 as 0.50090 with 8 features considered<br>\n",
    "When the alpha value is more that 2.6 it starts decreasing at a constant rate with the number of features considered also decreasing to 6 at alpha 4.6"
   ]
  },
  {
   "cell_type": "code",
   "execution_count": 19,
   "id": "32a3f384",
   "metadata": {},
   "outputs": [
    {
     "name": "stdout",
     "output_type": "stream",
     "text": [
      "-39.666290332952116\n"
     ]
    },
    {
     "name": "stderr",
     "output_type": "stream",
     "text": [
      "/Users/hardikrathod/opt/anaconda3/lib/python3.8/site-packages/sklearn/linear_model/_coordinate_descent.py:530: ConvergenceWarning: Objective did not converge. You might want to increase the number of iterations. Duality gap: 680.5664453032659, tolerance: 196.076098489426\n",
      "  model = cd_fast.enet_coordinate_descent(\n"
     ]
    }
   ],
   "source": [
    "\"\"\"A different observation regarding scikit learn linear model lasso method:\n",
    "\n",
    "When we try to pass alpha as a very small value like 1x10^-4 and smaller, then the code linear \n",
    "model itself gives an error saying that model was not able to converge within 1000 itterations. This is \n",
    "because the co-effiecient failed to reach the final stage.<br>\n",
    "As seen below\"\"\"\n",
    "\n",
    "# This does not work : \n",
    "og_lasso_model = linear_model.Lasso(alpha=0.00001)\n",
    "og_lasso_model.fit(og_x_train, og_y_train)\n",
    "print(og_lasso_model.score(og_x_test_scaled, og_y_test))"
   ]
  },
  {
   "cell_type": "code",
   "execution_count": 20,
   "id": "042ba813",
   "metadata": {},
   "outputs": [
    {
     "name": "stdout",
     "output_type": "stream",
     "text": [
      "-39.66629048501918\n"
     ]
    }
   ],
   "source": [
    "# It works when we pass the max_iter param which overwrites the default value of 1000:\n",
    "og_lasso_model = linear_model.Lasso(alpha=0.00001, max_iter = 10000)\n",
    "og_lasso_model.fit(og_x_train, og_y_train)\n",
    "print(og_lasso_model.score(og_x_test_scaled, og_y_test))"
   ]
  },
  {
   "cell_type": "markdown",
   "id": "d1eff576",
   "metadata": {},
   "source": [
    "<h2>Task 10</h2>\n",
    "Choosing the regularization parameter for the Lasso using cross-validation on the training set"
   ]
  },
  {
   "cell_type": "code",
   "execution_count": 21,
   "id": "658b3dd6",
   "metadata": {},
   "outputs": [
    {
     "name": "stdout",
     "output_type": "stream",
     "text": [
      "Creating new Lasso with best alpha : 0.20000000000000004\n",
      "\n",
      "Training Score for Cross Val : 0.5192473086104548\n",
      "Test Score for Cross Val : 0.4829802421269077\n",
      "The following are the features selected by our Lasso Model:\n",
      "['sex', 'bmi', 'bp', 's3', 's5']\n"
     ]
    }
   ],
   "source": [
    "from sklearn.model_selection import cross_val_score\n",
    "\n",
    "best_alpha = np.NINF\n",
    "best_score = 0\n",
    "i=0.01\n",
    "while i<=5:\n",
    "    og_lasso_cv_model = linear_model.Lasso(alpha = i)\n",
    "    og_lasso_cv_model.fit(og_x_train_scaled, og_y_train)\n",
    "    og_r2_cv_train = cross_val_score(og_lasso_cv_model, og_x_train_scaled, og_y_train, cv=10)\n",
    "    mean_score = np.mean(og_r2_cv_train)\n",
    "    if mean_score > best_score:\n",
    "        best_alpha = i;\n",
    "        best_score = mean_score\n",
    "    i += 0.01\n",
    "        \n",
    "print(\"Creating new Lasso with best alpha : {}\\n\".format(best_alpha))\n",
    "\n",
    "og_best_lasso_model = linear_model.Lasso(alpha=best_alpha)\n",
    "og_best_lasso_model.fit(og_x_train_scaled, og_y_train)\n",
    "\n",
    "og_best_train_r2 =og_best_lasso_model.score(og_x_train_scaled, og_y_train)\n",
    "og_best_test_r2 = og_best_lasso_model.score(og_x_test_scaled, og_y_test)\n",
    "print(\"Training Score for Cross Val : {}\".format(og_best_train_r2))\n",
    "print(\"Test Score for Cross Val : {}\".format(og_best_test_r2))\n",
    "\n",
    "# print(og_lassoCV_model.coef_)\n",
    "print(\"The following are the features selected by our Lasso Model:\")\n",
    "    \n",
    "filtered_features_list = [sk_diabetes_data['feature_names'][x] for x in np.nonzero(og_lasso_cv_model.coef_)[0]]\n",
    "print(filtered_features_list)"
   ]
  },
  {
   "cell_type": "markdown",
   "id": "798ac1ca",
   "metadata": {},
   "source": [
    "<h2>Task 11:</h2><br>\n",
    "<h3>a. Spliting the Original data training set into two parts: the calibration set of size 99 and the rest of the training set</h3>"
   ]
  },
  {
   "cell_type": "code",
   "execution_count": 22,
   "id": "14455682",
   "metadata": {},
   "outputs": [
    {
     "name": "stdout",
     "output_type": "stream",
     "text": [
      "og_true_train : (232, 10)\n",
      "og_calib_train : (99, 10)\n",
      "og_true_label : (232,)\n",
      "og_calib_label : (99,)\n"
     ]
    }
   ],
   "source": [
    "og_true_train, og_calib_train, og_true_label, og_calib_label = train_test_split(og_x_train, og_y_train, test_size = 99, random_state=2110)\n",
    "print(\"og_true_train :\",og_true_train.shape)\n",
    "print(\"og_calib_train :\",og_calib_train.shape)\n",
    "print(\"og_true_label :\",og_true_label.shape)\n",
    "print(\"og_calib_label :\",og_calib_label.shape)"
   ]
  },
  {
   "cell_type": "markdown",
   "id": "2aa0d56e",
   "metadata": {},
   "source": [
    "<h3>b. Preprocess the training set proper, calibration set, and test set using StandardScaler</h3>"
   ]
  },
  {
   "cell_type": "code",
   "execution_count": 23,
   "id": "30537ec9",
   "metadata": {},
   "outputs": [
    {
     "name": "stdout",
     "output_type": "stream",
     "text": [
      "True Train before scaling :  [ 62.       2.      33.3    114.     182.     114.      38.       5.\n",
      "   5.0106  96.    ]\n",
      "True Train after scaling :  [ 1.07864803  1.14891253  1.54230073  1.48717961 -0.24403578 -0.07292776\n",
      " -0.97652416  0.75236946  0.67041555  0.39667858]\n"
     ]
    }
   ],
   "source": [
    "new_scaler = StandardScaler()\n",
    "new_scaler.fit(og_true_train)\n",
    "og_true_train_scaled = new_scaler.transform(og_true_train)\n",
    "og_calib_train_scaled = new_scaler.transform(og_calib_train)\n",
    "\n",
    "print(\"True Train before scaling : \",og_true_train[0])\n",
    "print(\"True Train after scaling : \",og_true_train_scaled[0])"
   ]
  },
  {
   "cell_type": "markdown",
   "id": "6ff42e72",
   "metadata": {},
   "source": [
    "<h3>c. Implementing Inductive conformal predictor</h3>"
   ]
  },
  {
   "cell_type": "code",
   "execution_count": 24,
   "id": "3f41b89d",
   "metadata": {},
   "outputs": [
    {
     "name": "stdout",
     "output_type": "stream",
     "text": [
      "[215.40333409 163.24577798 229.07029967 149.86814066 127.92371126\n",
      " 125.5335831  234.89389878 113.36093212 189.98686717 133.6519492\n",
      " 114.5692739  171.00667385  79.26675811  83.03757892 241.48783108\n",
      " 118.24362859 148.64338359 130.35570656 159.3496704  166.61378432\n",
      " 129.75329897 168.1024285  171.38728869 117.90563    131.04209182\n",
      " 184.93341484 153.56686856 192.67018145 165.28305574 153.24236384\n",
      " 182.14718929  97.57779489 275.88274181 185.81084098 111.84256636\n",
      " 185.36111342  51.28808632  93.90555837 261.5716807  112.06725056\n",
      " 155.90918445 196.78675671 147.36239066 139.745449   268.97093304\n",
      " 292.89115694 247.14075582  72.83408424 170.41576694 235.66634973\n",
      "  75.89514398 137.79477582  86.83067415  96.6686995  112.36693267\n",
      " 212.90354953 210.04108841 154.12948446 230.04988334 166.76648586\n",
      " 186.18911241 179.52757358 185.95537512 162.45678095 176.41768226\n",
      " 258.4619648  210.77379313 229.44105652 119.68187671 116.25834449\n",
      " 164.11512033 102.3885946  111.13647824  70.97553865 201.51265506\n",
      " 171.68407227  67.324245   110.96131517 207.88821769  85.10526809\n",
      " 205.71957829  53.86371311 209.77619194 166.0246934  132.28740786\n",
      " 111.02858972 122.35968695 211.94197013 180.05993079  63.2895026\n",
      " 165.06824727 116.66064103 199.28616387 152.90693028  81.63295888\n",
      " 103.89284273  70.20627169 234.29957206 300.51080477]\n"
     ]
    }
   ],
   "source": [
    "calib_best_alpha = np.NINF\n",
    "calib_best_score = np.NINF\n",
    "i=0.01\n",
    "while i<=5:\n",
    "    og_calib_model = linear_model.Lasso(alpha = i)\n",
    "    og_calib_model.fit(og_true_train_scaled, og_true_label)\n",
    "    og_calib_train = cross_val_score(og_calib_model, og_true_train_scaled, og_true_label, cv=5)\n",
    "    calib_mean_score = np.mean(og_calib_train)\n",
    "    if calib_mean_score > calib_best_score:\n",
    "        calib_best_alpha = i;\n",
    "        calib_best_score = calib_mean_score\n",
    "    i += 0.01\n",
    "\n",
    "og_calib_model_best_alpha = linear_model.Lasso(alpha = calib_best_alpha)   \n",
    "og_calib_model_best_alpha.fit(og_true_train_scaled, og_true_label)\n",
    "og_calib_lasso_predicted = og_calib_model_best_alpha.predict(og_calib_train_scaled)\n",
    "print(og_calib_lasso_predicted)"
   ]
  },
  {
   "cell_type": "code",
   "execution_count": 25,
   "id": "2fa3b46d",
   "metadata": {},
   "outputs": [],
   "source": [
    "alpha_list = np.sort([abs(og_calib_label[index] - og_calib_lasso_predicted[index]) for index in range(len(og_calib_label))])"
   ]
  },
  {
   "cell_type": "markdown",
   "id": "79a1821e",
   "metadata": {},
   "source": [
    "<h4>Calculating the value of K </h4>"
   ]
  },
  {
   "cell_type": "code",
   "execution_count": 26,
   "id": "1ee36feb",
   "metadata": {},
   "outputs": [
    {
     "name": "stdout",
     "output_type": "stream",
     "text": [
      "k for 5% significance : 95\n",
      "k for 20% significance : 80\n"
     ]
    }
   ],
   "source": [
    "import math\n",
    "k_5 = math.ceil((1-0.05)*(len(alpha_list)+ 1))\n",
    "print(\"k for 5% significance :\",k_5)\n",
    "k_20 = math.ceil((1-0.2)*(len(alpha_list)+ 1))\n",
    "print(\"k for 20% significance :\",k_20)"
   ]
  },
  {
   "cell_type": "markdown",
   "id": "57d41eb5",
   "metadata": {},
   "source": [
    "<h3>for 5% significance</h3>"
   ]
  },
  {
   "cell_type": "code",
   "execution_count": 27,
   "id": "fcfd9ca9",
   "metadata": {},
   "outputs": [],
   "source": [
    "og_true_predicted_labels = og_calib_model_best_alpha.predict(og_x_test_scaled)"
   ]
  },
  {
   "cell_type": "code",
   "execution_count": 28,
   "id": "4e394408",
   "metadata": {},
   "outputs": [
    {
     "name": "stdout",
     "output_type": "stream",
     "text": [
      "Interval list for 5% significance :  [190.0, 190.0, 190.0, 190.0, 190.0, 190.00000000000003, 190.00000000000003, 190.0, 190.0, 190.0, 190.0, 190.00000000000003, 190.0, 190.00000000000003, 190.0, 190.0, 190.0, 190.0, 190.0, 190.0, 190.0, 190.0, 190.0, 190.0, 190.0, 190.0, 190.0, 190.0, 190.0, 190.0, 190.0, 190.0, 190.0, 189.99999999999997, 190.0, 190.0, 190.0, 190.0, 190.0, 190.0, 190.0, 190.0, 190.0, 190.0, 190.0, 190.0, 190.0, 190.0, 190.0, 189.99999999999997, 190.0, 190.0, 190.0, 190.0, 190.0, 190.0, 190.0, 190.0, 189.99999999999997, 190.0, 190.0, 190.0, 190.0, 190.0, 190.0, 190.0, 190.00000000000003, 190.0, 190.0, 190.0, 190.0, 190.0, 190.0, 190.0, 189.99999999999997, 190.0, 190.0, 190.0, 190.0, 190.0, 190.0, 190.0, 190.0, 190.0, 190.0, 190.0, 189.99999999999997, 190.0, 190.0, 190.0, 190.0, 190.0, 190.0, 190.0, 190.0, 190.0, 189.99999999999997, 190.0, 190.0, 190.0, 189.99999999999997, 190.0, 190.0, 190.0, 190.0, 190.00000000000003, 190.0, 190.0, 190.0, 190.0, 190.0]\n"
     ]
    }
   ],
   "source": [
    "alpha_intervals_list = [[og_true_predicted_labels[val]-k_5, og_true_predicted_labels[val]+k_5] for val in  range(len(og_true_predicted_labels))]\n",
    "print(\"Interval list for 5% significance : \",[x[1]-x[0] for x in alpha_intervals_list])"
   ]
  },
  {
   "cell_type": "code",
   "execution_count": 29,
   "id": "5cf3327e",
   "metadata": {},
   "outputs": [],
   "source": [
    "accuracy_check_list = []\n",
    "for index in range(len(alpha_intervals_list)):\n",
    "    accuracy_check_list.append(alpha_intervals_list[index][0]<=og_y_test[index]<=alpha_intervals_list[index][1])\n",
    "# print(accuracy_check_list)"
   ]
  },
  {
   "cell_type": "code",
   "execution_count": 30,
   "id": "6cc20346",
   "metadata": {},
   "outputs": [
    {
     "name": "stdout",
     "output_type": "stream",
     "text": [
      "Eror rate for 5% significance : 0.0990990990990991\n"
     ]
    }
   ],
   "source": [
    "error_rate_k5 = accuracy_check_list.count(False)/len(accuracy_check_list)\n",
    "print(\"Eror rate for 5% significance :\",error_rate_k5)"
   ]
  },
  {
   "cell_type": "markdown",
   "id": "c860c81f",
   "metadata": {},
   "source": [
    "<h3>for 20% signaficance</h3>"
   ]
  },
  {
   "cell_type": "code",
   "execution_count": 31,
   "id": "ac637f49",
   "metadata": {},
   "outputs": [
    {
     "name": "stdout",
     "output_type": "stream",
     "text": [
      "Interval list for 20% significance :  [160.0, 160.0, 160.0, 160.0, 160.0, 160.00000000000003, 160.00000000000003, 160.0, 160.0, 160.0, 160.0, 160.00000000000003, 160.0, 160.00000000000003, 160.0, 160.0, 160.0, 160.0, 160.0, 160.0, 160.0, 160.0, 160.0, 160.0, 160.0, 160.0, 160.0, 160.0, 160.0, 160.0, 160.0, 160.0, 160.0, 159.99999999999997, 160.0, 160.0, 160.0, 160.0, 160.0, 160.0, 160.0, 160.0, 160.0, 160.0, 160.0, 160.0, 160.0, 160.0, 160.0, 159.99999999999997, 160.0, 160.0, 160.0, 160.0, 160.0, 160.0, 160.0, 160.0, 160.0, 160.0, 160.0, 160.0, 160.0, 160.0, 160.0, 160.0, 160.00000000000003, 160.0, 160.0, 160.0, 160.0, 160.0, 160.0, 160.0, 160.0, 160.0, 160.0, 160.0, 160.0, 160.0, 160.0, 160.0, 160.0, 160.0, 160.0, 160.0, 160.0, 160.0, 160.0, 160.0, 160.0, 160.0, 160.0, 160.0, 160.0, 160.0, 159.99999999999997, 160.0, 160.0, 160.0, 159.99999999999997, 160.0, 160.0, 160.0, 160.0, 160.00000000000003, 160.0, 160.0, 160.0, 160.0, 160.0]\n"
     ]
    }
   ],
   "source": [
    "alpha_intervals_list = [[og_true_predicted_labels[val]-k_20, og_true_predicted_labels[val]+k_20] for val in  range(len(og_true_predicted_labels))]\n",
    "print(\"Interval list for 20% significance : \",[x[1]-x[0] for x in alpha_intervals_list])"
   ]
  },
  {
   "cell_type": "code",
   "execution_count": 32,
   "id": "5d781c45",
   "metadata": {},
   "outputs": [
    {
     "name": "stdout",
     "output_type": "stream",
     "text": [
      "Eror rate for 20% significance : 0.15315315315315314\n"
     ]
    }
   ],
   "source": [
    "accuracy_check_list = []\n",
    "for index in range(len(alpha_intervals_list)):\n",
    "    accuracy_check_list.append(alpha_intervals_list[index][0]<=og_y_test[index]<=alpha_intervals_list[index][1])\n",
    "# print(accuracy_check_list)\n",
    "error_rate_k20 = accuracy_check_list.count(False)/len(accuracy_check_list)\n",
    "print(\"Eror rate for 20% significance :\",error_rate_k20)"
   ]
  },
  {
   "cell_type": "markdown",
   "id": "cf315e80",
   "metadata": {},
   "source": [
    "<h2>Conclusion of 16 values :</h2>"
   ]
  },
  {
   "cell_type": "markdown",
   "id": "f11a7d1a",
   "metadata": {},
   "source": [
    "a. The training and test R2 for the Lasso model with default parameters on the scikit-learn version of diabetes and the number of features used.<br><br>\n",
    "R^2 for sk learn training : 0.3612162357088038<br>\n",
    "R^2 for sk learn test : 0.33329688914040323<br>\n",
    "Total features used : 2<br>\n",
    "['bmi', 's5']"
   ]
  },
  {
   "cell_type": "markdown",
   "id": "33e85049",
   "metadata": {},
   "source": [
    "b. The training and test R2 for the Lasso model with default parameters on the original version of diabetes and the number of features used.<br><br>\n",
    "R^2 for original diabetes training : 0.5166974081783697<br>\n",
    "R^2 for original diabetes test : 0.49321953915434846<br>\n",
    "Total features used : 10<br>\n",
    "['age', 'sex', 'bmi', 'bp', 's1', 's2', 's3', 's4', 's5', 's6']"
   ]
  },
  {
   "cell_type": "markdown",
   "id": "2534762a",
   "metadata": {},
   "source": [
    "c. The training and test R2 for the Lasso model with default parameters on normalized version of diabetes; the number of features used.<br><br>\n",
    "R^2 for Normalized Original Dataset training : 0.5166974081783697<br>\n",
    "R^2 for Normalized Original Dataset test : 0.49321953915434846<br>\n",
    "Total features used : 9<br>\n",
    "['age', 'sex', 'bmi', 'bp', 's1', 's3', 's4', 's5', 's6']"
   ]
  },
  {
   "cell_type": "markdown",
   "id": "ded3aec2",
   "metadata": {},
   "source": [
    "d. The training and test R2 for the Lasso model with the best parameters chosen by cross-validation on your version of diabetes; the number of features used.<br><br>\n",
    "Training Score for Cross Val : 0.5192473086104548<br>\n",
    "Test Score for Cross Val : 0.4829802421269077<br>\n",
    "Total features used : 5<br>\n",
    "['sex', 'bmi', 'bp', 's3', 's5']<br>"
   ]
  },
  {
   "cell_type": "markdown",
   "id": "5a4b4260",
   "metadata": {},
   "source": [
    "e. The lengths of prediction intervals and their test error rates at signifi- cance levels 5% and 20% (if you are implementing an inductive conformal predictor).<br><br>\n",
    "Eror rate for 5% significance : 0.15315315315315314<br>\n",
    "Interval list for 5% significance :  [190.0, 190.0, 190.0, 190.0, 190.0, 190.00000000000003, 190.00000000000003, 190.0, 190.0, 190.0, 190.0, 190.00000000000003, 190.0, 190.00000000000003, 190.0, 190.0, 190.0, 190.0, 190.0, 190.0, 190.0, 190.0, 190.0, 190.0, 190.0, 190.0, 190.0, 190.0, 190.0, 190.0, 190.0, 190.0, 190.0, 189.99999999999997, 190.0, 190.0, 190.0, 190.0, 190.0, 190.0, 190.0, 190.0, 190.0, 190.0, 190.0, 190.0, 190.0, 190.0, 190.0, 189.99999999999997, 190.0, 190.0, 190.0, 190.0, 190.0, 190.0, 190.0, 190.0, 189.99999999999997, 190.0, 190.0, 190.0, 190.0, 190.0, 190.0, 190.0, 190.00000000000003, 190.0, 190.0, 190.0, 190.0, 190.0, 190.0, 190.0, 189.99999999999997, 190.0, 190.0, 190.0, 190.0, 190.0, 190.0, 190.0, 190.0, 190.0, 190.0, 190.0, 189.99999999999997, 190.0, 190.0, 190.0, 190.0, 190.0, 190.0, 190.0, 190.0, 190.0, 189.99999999999997, 190.0, 190.0, 190.0, 189.99999999999997, 190.0, 190.0, 190.0, 190.0, 190.00000000000003, 190.0, 190.0, 190.0, 190.0, 190.0]<br><br>\n",
    "Eror rate for 20% significance : 0.15315315315315314<br>\n",
    "Interval list for 20% significance :  [160.0, 160.0, 160.0, 160.0, 160.0, 160.00000000000003, 160.00000000000003, 160.0, 160.0, 160.0, 160.0, 160.00000000000003, 160.0, 160.00000000000003, 160.0, 160.0, 160.0, 160.0, 160.0, 160.0, 160.0, 160.0, 160.0, 160.0, 160.0, 160.0, 160.0, 160.0, 160.0, 160.0, 160.0, 160.0, 160.0, 159.99999999999997, 160.0, 160.0, 160.0, 160.0, 160.0, 160.0, 160.0, 160.0, 160.0, 160.0, 160.0, 160.0, 160.0, 160.0, 160.0, 159.99999999999997, 160.0, 160.0, 160.0, 160.0, 160.0, 160.0, 160.0, 160.0, 160.0, 160.0, 160.0, 160.0, 160.0, 160.0, 160.0, 160.0, 160.00000000000003, 160.0, 160.0, 160.0, 160.0, 160.0, 160.0, 160.0, 160.0, 160.0, 160.0, 160.0, 160.0, 160.0, 160.0, 160.0, 160.0, 160.0, 160.0, 160.0, 160.0, 160.0, 160.0, 160.0, 160.0, 160.0, 160.0, 160.0, 160.0, 160.0, 159.99999999999997, 160.0, 160.0, 160.0, 159.99999999999997, 160.0, 160.0, 160.0, 160.0, 160.00000000000003, 160.0, 160.0, 160.0, 160.0, 160.0]"
   ]
  }
 ],
 "metadata": {
  "kernelspec": {
   "display_name": "Python 3",
   "language": "python",
   "name": "python3"
  },
  "language_info": {
   "codemirror_mode": {
    "name": "ipython",
    "version": 3
   },
   "file_extension": ".py",
   "mimetype": "text/x-python",
   "name": "python",
   "nbconvert_exporter": "python",
   "pygments_lexer": "ipython3",
   "version": "3.8.8"
  }
 },
 "nbformat": 4,
 "nbformat_minor": 5
}
